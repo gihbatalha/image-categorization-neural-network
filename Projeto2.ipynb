{
 "cells": [
  {
   "cell_type": "markdown",
   "metadata": {},
   "source": [
    "# Redes Neurais e Regressão Logística"
   ]
  },
  {
   "cell_type": "code",
   "execution_count": 7,
   "metadata": {},
   "outputs": [],
   "source": [
    "import numpy as np\n",
    "import matplotlib as mpl\n",
    "import pandas as pd"
   ]
  },
  {
   "cell_type": "markdown",
   "metadata": {},
   "source": [
    "## Implementando com Regressão Logística Multinomial"
   ]
  },
  {
   "cell_type": "code",
   "execution_count": null,
   "metadata": {},
   "outputs": [],
   "source": [
    "# Matriz X (inputs)\n",
    "# 3.073 colunas -> 3072 pixels + bias\n",
    "# 80.000 linhas -> quantidade de imagens no DataSet\n",
    "\n",
    "# Matriz W (weights)\n",
    "# 10 colunas  -> número de classes\n",
    "# 3073 linhas -> número de features\n",
    "\n",
    "# Matriz Z\n",
    "# 10 colunas     -> número de classes\n",
    "# 80.0000 linhas -> número de imagens "
   ]
  },
  {
   "cell_type": "code",
   "execution_count": 8,
   "metadata": {},
   "outputs": [],
   "source": [
    "def calculateZNet(inputs, weights):\n",
    "    return inputs.dot(weights)"
   ]
  },
  {
   "cell_type": "code",
   "execution_count": 27,
   "metadata": {},
   "outputs": [],
   "source": [
    "def softmax(Z):\n",
    "    ZOut = []\n",
    "    \n",
    "    for (l,L) in enumerate(Z):\n",
    "\n",
    "        somaExpLine = 0;\n",
    "        \n",
    "        linha = []\n",
    "        for (c,C) in enumerate(L):\n",
    "            somaExpLine += np.exp(L[c])\n",
    "            \n",
    "        for (c,C) in enumerate(L):\n",
    "            expClassX = np.exp(L[c])\n",
    "            softmaxR = expClassX/somaExpLine\n",
    "            linha.append(softmaxR)\n",
    "            \n",
    "        ZOut.append(linha)\n",
    "            \n",
    "    return ZOut"
   ]
  },
  {
   "cell_type": "code",
   "execution_count": 28,
   "metadata": {},
   "outputs": [
    {
     "data": {
      "text/plain": [
       "[[0.09003057317038046, 0.24472847105479767, 0.6652409557748219],\n",
       " [0.09003057317038045, 0.24472847105479764, 0.6652409557748219]]"
      ]
     },
     "execution_count": 28,
     "metadata": {},
     "output_type": "execute_result"
    }
   ],
   "source": [
    "# Teste softmax\n",
    "M = [[1,2,3],[4,5,6]]\n",
    "softmax(M)"
   ]
  },
  {
   "cell_type": "code",
   "execution_count": 29,
   "metadata": {},
   "outputs": [],
   "source": [
    "def crossEntropy(line, targets):\n",
    "    entropy = 0\n",
    "    for (z, ZOutLine) in enumerate(line):\n",
    "        entropy += targets[z]*np.log(ZOutLine)\n",
    "        \n",
    "    return -entropy"
   ]
  },
  {
   "cell_type": "code",
   "execution_count": 30,
   "metadata": {},
   "outputs": [],
   "source": [
    "def costFunction(ZOut, targets):   \n",
    "    qtdLines = len(ZOut)\n",
    "    sumEntropies = 0\n",
    "    for L in Zout:\n",
    "        sumEntropies += crossEntropy(L,targets)\n",
    "        \n",
    "    return sumEntropies/qtdLines\n",
    "    "
   ]
  },
  {
   "cell_type": "code",
   "execution_count": null,
   "metadata": {},
   "outputs": [],
   "source": [
    "////?def derivativeCostFunction():\n",
    "    "
   ]
  }
 ],
 "metadata": {
  "kernelspec": {
   "display_name": "Python 3",
   "language": "python",
   "name": "python3"
  },
  "language_info": {
   "codemirror_mode": {
    "name": "ipython",
    "version": 3
   },
   "file_extension": ".py",
   "mimetype": "text/x-python",
   "name": "python",
   "nbconvert_exporter": "python",
   "pygments_lexer": "ipython3",
   "version": "3.7.3"
  }
 },
 "nbformat": 4,
 "nbformat_minor": 2
}

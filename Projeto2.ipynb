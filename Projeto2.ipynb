{
 "cells": [
  {
   "cell_type": "markdown",
   "metadata": {},
   "source": [
    "# Redes Neurais e Regressão Logística"
   ]
  },
  {
   "cell_type": "code",
   "execution_count": 7,
   "metadata": {},
   "outputs": [],
   "source": [
    "import numpy as np\n",
    "import matplotlib as mpl\n",
    "import pandas as pd"
   ]
  },
  {
   "cell_type": "markdown",
   "metadata": {},
   "source": [
    "## Implementando com Regressão Logística Multinomial"
   ]
  },
  {
   "cell_type": "code",
   "execution_count": null,
   "metadata": {},
   "outputs": [],
   "source": [
    "# Matriz X (inputs)\n",
    "# 3.073 colunas -> 3072 pixels + bias\n",
    "# 80.000 linhas -> quantidade de imagens no DataSet\n",
    "\n",
    "# Matriz W (weights)\n",
    "# 10 colunas  -> número de classes\n",
    "# 3073 linhas -> número de features\n",
    "\n",
    "# Matriz Z\n",
    "# 10 colunas     -> número de classes\n",
    "# 80.0000 linhas -> número de imagens "
   ]
  },
  {
   "cell_type": "code",
   "execution_count": 8,
   "metadata": {},
   "outputs": [],
   "source": [
    "def calculateZNet(inputs, weights):\n",
    "    return inputs.dot(weights)"
   ]
  },
  {
   "cell_type": "code",
   "execution_count": 27,
   "metadata": {},
   "outputs": [],
   "source": [
    "def softmax(Z):\n",
    "    ZOut = []\n",
    "    \n",
    "    for (l,L) in enumerate(Z):\n",
    "\n",
    "        somaExpLine = 0;\n",
    "        \n",
    "        linha = []\n",
    "        for (c,C) in enumerate(L):\n",
    "            somaExpLine += np.exp(L[c])\n",
    "            \n",
    "        for (c,C) in enumerate(L):\n",
    "            expClassX = np.exp(L[c])\n",
    "            softmaxR = expClassX/somaExpLine\n",
    "            linha.append(softmaxR)\n",
    "            \n",
    "        ZOut.append(linha)\n",
    "            \n",
    "    return ZOut"
   ]
  },
  {
   "cell_type": "code",
   "execution_count": 28,
   "metadata": {},
   "outputs": [
    {
     "data": {
      "text/plain": [
       "[[0.09003057317038046, 0.24472847105479767, 0.6652409557748219],\n",
       " [0.09003057317038045, 0.24472847105479764, 0.6652409557748219]]"
      ]
     },
     "execution_count": 28,
     "metadata": {},
     "output_type": "execute_result"
    }
   ],
   "source": [
    "# Teste softmax\n",
    "M = [[1,2,3],[4,5,6]]\n",
    "softmax(M)"
   ]
  },
  {
   "cell_type": "code",
   "execution_count": 29,
   "metadata": {},
   "outputs": [],
   "source": [
    "def crossEntropy(line, targets):\n",
    "    entropy = 0\n",
    "    for (z, ZOutLine) in enumerate(line):\n",
    "        entropy += targets[z]*np.log(ZOutLine)\n",
    "        \n",
    "    return -entropy"
   ]
  },
  {
   "cell_type": "code",
   "execution_count": 30,
   "metadata": {},
   "outputs": [],
   "source": [
    "def costFunction(ZOut, targets):   \n",
    "    qtdLines = len(ZOut)\n",
    "    sumEntropies = 0\n",
    "    for L in Zout:\n",
    "        sumEntropies += crossEntropy(L,targets)\n",
    "        \n",
    "    return sumEntropies/qtdLines\n",
    "    "
   ]
  },
  {
   "cell_type": "code",
   "execution_count": 1,
   "metadata": {},
   "outputs": [],
   "source": [
    "def derivativeCostFunction(inputs, ZOut, targets, weights):\n",
    "    ajusteWeight = []\n",
    "    \n",
    "    for (i,I) in enumerate(weights):\n",
    "        linha = []\n",
    "        for (j,J) in enumerate(I):\n",
    "            \n",
    "            soma = 0\n",
    "            \n",
    "            for (k, K) in enumerate(inputs):\n",
    "                xki = inputs[k][i]\n",
    "                tkj = targets[k][j]\n",
    "                zkj = ZOut[k][j]\n",
    "                \n",
    "                item = xki*(tkj - zkj)\n",
    "                soma += item\n",
    "                \n",
    "            \n",
    "            qtdLinhas = len(inputs)\n",
    "            ajusteOneWeight = -(soma/qtdLinhas)\n",
    "            \n",
    "            linha.append(ajusteOneWeight)\n",
    "    \n",
    "        ajusteWeight.append(linha)\n",
    "        \n",
    "    return ajusteWeight"
   ]
  },
  {
   "cell_type": "code",
   "execution_count": 2,
   "metadata": {},
   "outputs": [],
   "source": [
    "def gradientDescent(inputs, weights, targets, ZOut, learningRate):\n",
    "    dErro = derivativeCostFunction(inputs,ZOut,targets,weights)\n",
    "    \n",
    "    updatedWeights = []\n",
    "    \n",
    "    for (i,I) in enumerate(weights):\n",
    "        linha = []\n",
    "        for (j,J) in enumerate(I):\n",
    "            item = weights[i][j] - learningRate*dErro[i][j]\n",
    "            linha.append(item)\n",
    "            \n",
    "        updatedWeights.append(linha)\n",
    "        \n",
    "    return updatedWeights"
   ]
  },
  {
   "cell_type": "markdown",
   "metadata": {},
   "source": [
    "#### Classes de execução"
   ]
  },
  {
   "cell_type": "code",
   "execution_count": null,
   "metadata": {},
   "outputs": [],
   "source": [
    "class BatchIterator:\n",
    "    firstItem = 0\n",
    "    lastItem = 0\n",
    "    batchSize = 0\n",
    "    dataSet = []\n",
    "    firstIteration = True\n",
    "  \n",
    "  \n",
    "    def __init__(self, batchSize, data):\n",
    "        self.batchSize = batchSize\n",
    "        self.firstItem = 0\n",
    "        self.lastItem = batchSize\n",
    "        self.dataSet = data\n",
    "    \n",
    "   \n",
    "    def hasNext(self):\n",
    "        if self.firstIteration:\n",
    "            temp = self.firstItem\n",
    "        else:\n",
    "            temp = self.firstItem + self.batchSize\n",
    "        size = len(self.dataSet)\n",
    "        r = size > temp\n",
    "        return r\n",
    "    \n",
    "    \n",
    "    def next(self):\n",
    "        if self.firstIteration:\n",
    "            self.firstIteration = False\n",
    "            return self.dataSet[self.firstItem:self.lastItem]\n",
    "\n",
    "        self.firstItem = self.lastItem\n",
    "        self.lastItem += self.batchSize\n",
    "\n",
    "        return self.dataSet[self.firstItem:self.lastItem]"
   ]
  },
  {
   "cell_type": "markdown",
   "metadata": {},
   "source": [
    "## Execução Regressão Logística"
   ]
  },
  {
   "cell_type": "code",
   "execution_count": null,
   "metadata": {},
   "outputs": [],
   "source": [
    "nb_epochs = 500\n",
    "weights = [] \n",
    "learningRate = 0.001\n",
    "batchSize = 500\n",
    "dataSet = training\n",
    "targets = []\n",
    "\n",
    "for i in range(nb_epochs):\n",
    "    iterator = BatchIterator(batchSize, dataSet)\n",
    "    while iterator.hasNext():\n",
    "        batch = iterator.next()\n",
    "        ZNet = calculateZNet(batch,weights)\n",
    "        ZOut = softmax(ZNet)\n",
    "        updatedWeights = gradientDescent(batch, weights, targets, ZOut, learningRate)\n",
    "        weights = updatedWeights\n",
    "        \n",
    "        # Validação\n",
    "        \n",
    "print(\"Weights: \", weights)"
   ]
  },
  {
   "cell_type": "markdown",
   "metadata": {},
   "source": [
    "## Implementação com Redes Neurais"
   ]
  },
  {
   "cell_type": "code",
   "execution_count": null,
   "metadata": {},
   "outputs": [],
   "source": [
    "# inputs\n",
    "# matrizes de pesos (2)\n",
    "# três camadas  (in, 1 hidden, out)\n",
    "\n",
    "def neuralNetwork(inputs,mWeights):\n",
    "    print(\"Neural Network..\")"
   ]
  },
  {
   "cell_type": "code",
   "execution_count": null,
   "metadata": {},
   "outputs": [],
   "source": [
    "def relu(x):\n",
    "    if x < 0:\n",
    "        return 0\n",
    "    else:\n",
    "        return x"
   ]
  },
  {
   "cell_type": "code",
   "execution_count": 2,
   "metadata": {},
   "outputs": [],
   "source": [
    "def reluMatrix(ZnetHidden): \n",
    "    ZOutHidden = []\n",
    "    \n",
    "    for (i,I) in enumerate(ZnetHidden):\n",
    "        linha = []\n",
    "        for (j,J) in enumerate(I):\n",
    "            item = relu(ZnetHidden[i][j])\n",
    "            \n",
    "            linha.append(item)\n",
    "            \n",
    "        ZOutHidden.append(linha)\n",
    "    return ZOutHidden"
   ]
  },
  {
   "cell_type": "code",
   "execution_count": 3,
   "metadata": {},
   "outputs": [],
   "source": [
    "def addBiasHidden(ZOutHidden):\n",
    "    ZOutBias = []\n",
    "    \n",
    "    for (i,I) in enumerate(ZnetHidden):\n",
    "        linha = [1] + I\n",
    "        ZOutBias.append(linha)\n",
    "        \n",
    "    return ZOutBias"
   ]
  },
  {
   "cell_type": "markdown",
   "metadata": {},
   "source": [
    "## Forward Propagation"
   ]
  },
  {
   "cell_type": "code",
   "execution_count": 4,
   "metadata": {},
   "outputs": [],
   "source": [
    "def processFoward(inputs, weights1, weights2):\n",
    "    #Camada escondida - hidden\n",
    "    ZnetHidden = calculateZNet(inputs, weights1)\n",
    "    ZOutHidden = reluMatrix(ZnetHidden)\n",
    "    ZOutHidden = addBiasHidden(ZOutHidden)\n",
    "    \n",
    "    #Camada final - out\n",
    "    inputs2 = ZOutHidden\n",
    "    ZNet = calculateZNet(inputs2, weights2)\n",
    "    ZOut = softmax(ZNet)\n",
    "    \n",
    "    return ZOut"
   ]
  },
  {
   "cell_type": "markdown",
   "metadata": {},
   "source": [
    "## Backpropagation"
   ]
  },
  {
   "cell_type": "code",
   "execution_count": null,
   "metadata": {},
   "outputs": [],
   "source": []
  }
 ],
 "metadata": {
  "kernelspec": {
   "display_name": "Python 3",
   "language": "python",
   "name": "python3"
  },
  "language_info": {
   "codemirror_mode": {
    "name": "ipython",
    "version": 3
   },
   "file_extension": ".py",
   "mimetype": "text/x-python",
   "name": "python",
   "nbconvert_exporter": "python",
   "pygments_lexer": "ipython3",
   "version": "3.7.3"
  }
 },
 "nbformat": 4,
 "nbformat_minor": 2
}
